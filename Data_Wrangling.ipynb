{
  "nbformat": 4,
  "nbformat_minor": 0,
  "metadata": {
    "colab": {
      "provenance": [],
      "authorship_tag": "ABX9TyP9KbECfSto0rns/lWtSApT",
      "include_colab_link": true
    },
    "kernelspec": {
      "name": "python3",
      "display_name": "Python 3"
    },
    "language_info": {
      "name": "python"
    }
  },
  "cells": [
    {
      "cell_type": "markdown",
      "metadata": {
        "id": "view-in-github",
        "colab_type": "text"
      },
      "source": [
        "<a href=\"https://colab.research.google.com/github/nrglen/Data-Mining-Learning/blob/main/Data_Wrangling.ipynb\" target=\"_parent\"><img src=\"https://colab.research.google.com/assets/colab-badge.svg\" alt=\"Open In Colab\"/></a>"
      ]
    },
    {
      "cell_type": "markdown",
      "source": [
        "# Data Wrangling\n",
        "## In this notebook you will learn\n",
        "### Cleaning data\n",
        "1. Filtering out noise\n",
        "2. Making data available for analysis\n",
        "### What is statistics?\n",
        "1. Simple statistics\n",
        "### Practical examples of data mining\n",
        "### Dataset examples\n"
      ],
      "metadata": {
        "id": "M4CuIJPOPiR_"
      }
    },
    {
      "cell_type": "code",
      "execution_count": null,
      "metadata": {
        "id": "9fNrxRnZPZ19"
      },
      "outputs": [],
      "source": [
        "# lets import the libraries required for the project\n",
        "import pandas as pd\n",
        "import numpy as np\n",
        "import seaborn as sns\n",
        "import matplotlib.pyplot as plt\n",
        "%matplotlib inline\n"
      ]
    }
  ]
}